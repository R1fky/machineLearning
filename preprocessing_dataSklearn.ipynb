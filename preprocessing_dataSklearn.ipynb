{
  "nbformat": 4,
  "nbformat_minor": 0,
  "metadata": {
    "colab": {
      "provenance": [],
      "authorship_tag": "ABX9TyO51PQFWuRsfJZAHpEBNoUv",
      "include_colab_link": true
    },
    "kernelspec": {
      "name": "python3",
      "display_name": "Python 3"
    },
    "language_info": {
      "name": "python"
    }
  },
  "cells": [
    {
      "cell_type": "markdown",
      "metadata": {
        "id": "view-in-github",
        "colab_type": "text"
      },
      "source": [
        "<a href=\"https://colab.research.google.com/github/R1fky/machineLearning/blob/main/preprocessing_dataSklearn.ipynb\" target=\"_parent\"><img src=\"https://colab.research.google.com/assets/colab-badge.svg\" alt=\"Open In Colab\"/></a>"
      ]
    },
    {
      "cell_type": "code",
      "execution_count": 2,
      "metadata": {
        "colab": {
          "base_uri": "https://localhost:8080/",
          "height": 0
        },
        "id": "Zhu0qVUU-jSq",
        "outputId": "5819ec13-d631-40c1-bd56-2a39a989ca44"
      },
      "outputs": [
        {
          "output_type": "execute_result",
          "data": {
            "text/plain": [
              "array([[ 1,  2,  3],\n",
              "       [ 4,  5,  6],\n",
              "       [ 7,  8,  9],\n",
              "       [10, 11, 12]])"
            ]
          },
          "metadata": {},
          "execution_count": 2
        }
      ],
      "source": [
        "# sample data\n",
        "import numpy as np\n",
        "from sklearn import preprocessing\n",
        "\n",
        "sampleData = np.array([\n",
        "    [1, 2, 3],\n",
        "    [4, 5, 6],\n",
        "    [7, 8, 9],\n",
        "    [10, 11, 12]\n",
        "])\n",
        "\n",
        "sampleData"
      ]
    },
    {
      "cell_type": "code",
      "source": [
        "sampleData.shape"
      ],
      "metadata": {
        "colab": {
          "base_uri": "https://localhost:8080/",
          "height": 0
        },
        "id": "I7CkEhAg_gfA",
        "outputId": "8b0ab8d6-7c7b-47ba-9cdc-d568159496f9"
      },
      "execution_count": 4,
      "outputs": [
        {
          "output_type": "execute_result",
          "data": {
            "text/plain": [
              "(4, 3)"
            ]
          },
          "metadata": {},
          "execution_count": 4
        }
      ]
    },
    {
      "cell_type": "code",
      "source": [
        "# preprocessing Binarizer\n",
        "preprocessor = preprocessing.Binarizer(threshold=5) # akan diubah menjadi biner jika nilai pada array lebih kecil dari threshold\n",
        "binerIzed = preprocessor.transform(sampleData)\n",
        "binerIzed"
      ],
      "metadata": {
        "colab": {
          "base_uri": "https://localhost:8080/"
        },
        "id": "CLNEwN5DATgy",
        "outputId": "c0840ce4-077e-4e1e-ce8e-bf8ca320336c"
      },
      "execution_count": 8,
      "outputs": [
        {
          "output_type": "execute_result",
          "data": {
            "text/plain": [
              "array([[0, 0, 0],\n",
              "       [0, 0, 1],\n",
              "       [1, 1, 1],\n",
              "       [1, 1, 1]])"
            ]
          },
          "metadata": {},
          "execution_count": 8
        }
      ]
    },
    {
      "cell_type": "code",
      "source": [
        "sampleData"
      ],
      "metadata": {
        "colab": {
          "base_uri": "https://localhost:8080/"
        },
        "id": "G59AQgjuB9Zh",
        "outputId": "879e957a-7b6d-42d4-e525-1ac1513e1335"
      },
      "execution_count": 9,
      "outputs": [
        {
          "output_type": "execute_result",
          "data": {
            "text/plain": [
              "array([[ 1,  2,  3],\n",
              "       [ 4,  5,  6],\n",
              "       [ 7,  8,  9],\n",
              "       [10, 11, 12]])"
            ]
          },
          "metadata": {},
          "execution_count": 9
        }
      ]
    },
    {
      "cell_type": "code",
      "source": [
        "# scalling\n",
        "preprocessor = preprocessing.MinMaxScaler(feature_range=(0, 1))\n",
        "preprocessor.fit(sampleData)\n",
        "scaled_data = preprocessor.transform(sampleData)\n",
        "scaled_data\n"
      ],
      "metadata": {
        "colab": {
          "base_uri": "https://localhost:8080/"
        },
        "id": "8OUcxoibCqLH",
        "outputId": "30c33f49-2869-414d-86ca-f958f6cb42a8"
      },
      "execution_count": 16,
      "outputs": [
        {
          "output_type": "execute_result",
          "data": {
            "text/plain": [
              "array([[0.        , 0.        , 0.        ],\n",
              "       [0.33333333, 0.33333333, 0.33333333],\n",
              "       [0.66666667, 0.66666667, 0.66666667],\n",
              "       [1.        , 1.        , 1.        ]])"
            ]
          },
          "metadata": {},
          "execution_count": 16
        }
      ]
    },
    {
      "cell_type": "code",
      "source": [
        "scaled_data = preprocessor.fit_transform(sampleData)\n",
        "scaled_data"
      ],
      "metadata": {
        "colab": {
          "base_uri": "https://localhost:8080/"
        },
        "id": "BkSGlKzeJldA",
        "outputId": "e1ba85bc-1441-4675-89c0-114c00484f18"
      },
      "execution_count": 20,
      "outputs": [
        {
          "output_type": "execute_result",
          "data": {
            "text/plain": [
              "array([[0.        , 0.        , 0.        ],\n",
              "       [0.33333333, 0.33333333, 0.33333333],\n",
              "       [0.66666667, 0.66666667, 0.66666667],\n",
              "       [1.        , 1.        , 1.        ]])"
            ]
          },
          "metadata": {},
          "execution_count": 20
        }
      ]
    },
    {
      "cell_type": "code",
      "source": [
        "# l2 normalisation\n",
        "sampleData\n",
        "\n",
        "l2_normalised_data = preprocessing.normalize(sampleData, norm='l2')\n",
        "l2_normalised_data"
      ],
      "metadata": {
        "colab": {
          "base_uri": "https://localhost:8080/"
        },
        "id": "04Dq6RpbJtrT",
        "outputId": "6c9bf4ef-d844-4167-df54-7269f2f1b96a"
      },
      "execution_count": 23,
      "outputs": [
        {
          "output_type": "execute_result",
          "data": {
            "text/plain": [
              "array([[0.26726124, 0.53452248, 0.80178373],\n",
              "       [0.45584231, 0.56980288, 0.68376346],\n",
              "       [0.50257071, 0.57436653, 0.64616234],\n",
              "       [0.52342392, 0.57576631, 0.62810871]])"
            ]
          },
          "metadata": {},
          "execution_count": 23
        }
      ]
    }
  ]
}